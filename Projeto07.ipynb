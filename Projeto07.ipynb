{
 "cells": [
  {
   "cell_type": "markdown",
   "metadata": {},
   "source": [
    "# Medicina Personalizada - Redefinindo o Tratamento de Câncer\n",
    "## https://www.datascienceacademy.com.br\n",
    "\n",
    "Muito tem sido dito durante os últimos anos sobre como a medicina de precisão e, mais concretamente, como o teste genético, vai provocar disrupção no tratamento de doenças como o câncer.\n",
    "\n",
    "Mas isso ainda está acontecendo apenas parcialmente devido à enorme quantidade de trabalho manual ainda necessário. Neste projeto, levamos a medicina personalizada ao seu potencial máximo.\n",
    "\n",
    "Uma vez sequenciado, um tumor cancerígeno pode ter milhares de mutações genéticas. O desafio foi distinguir as mutações que contribuem para o crescimento do tumor das mutações.\n",
    "\n",
    "Atualmente, esta interpretação de mutações genéticas está sendo feita manualmente. Esta é uma tarefa muito demorada, onde um patologista clínico tem que revisar manualmente e classificar cada mutação genética com base em evidências da literatura clínica baseada em texto.\n",
    "\n",
    "Para este projeto, o MSKCC (Memorial Sloan Kettering Cancer Center) disponibilizou uma base de conhecimento anotada por especialistas, onde pesquisadores e oncologistas de nível mundial anotaram manualmente milhares de mutações.\n",
    "\n",
    "O dataset completo pode ser encontrado em:\n",
    "https://www.kaggle.com/c/msk-redefining-cancer-treatment/data"
   ]
  },
  {
   "cell_type": "markdown",
   "metadata": {},
   "source": [
    "## O objetivo\n",
    " \n",
    "- Desenvolver um algoritmo de Machine Learning para classificar automaticamente as variacoes genéticas"
   ]
  },
  {
   "cell_type": "markdown",
   "metadata": {},
   "source": [
    "## Descrição dos arquivos\n",
    "- training_variants e test_variants: um arquivo separado por vírgula contendo a descrição das mutações genéticas usadas para treinamento. Os campos são ID (o id da linha usada para vincular a mutação à evidência clínica), GENE (o gene onde essa mutação genética estão localizadas), VARIACAO (a mudança de aminoácido para essas mutações), CLASSE (1-9 a classe que a mutação genética foi classificada)\n",
    "\n",
    "- training_text e test_text: um arquivo delimitado por (||) que contém a evidência clínica (texto) usada para classificar as mutações genéticas. Os campos são ID (o id da linha usada para vincular a evidência clínica à mutação genética), TEXT (a evidência clínica usada para classificar a mutação genética)"
   ]
  },
  {
   "cell_type": "markdown",
   "metadata": {},
   "source": [
    "## Extraindo e Carregando os Dados"
   ]
  },
  {
   "cell_type": "markdown",
   "metadata": {},
   "source": [
    "Importando bibliotecas que serao utilizadas neste projeto"
   ]
  },
  {
   "cell_type": "code",
   "execution_count": 1,
   "metadata": {},
   "outputs": [],
   "source": [
    "import numpy as np\n",
    "import pandas as pd\n",
    "import seaborn as sns\n",
    "\n",
    "import matplotlib.pyplot as plt\n",
    "%matplotlib inline\n",
    "\n",
    "# Ignore useless warnings\n",
    "import warnings\n",
    "warnings.filterwarnings(action=\"ignore\")"
   ]
  },
  {
   "cell_type": "markdown",
   "metadata": {},
   "source": [
    "Vamos carregar os arquivos usando o pandas"
   ]
  },
  {
   "cell_type": "code",
   "execution_count": 2,
   "metadata": {},
   "outputs": [],
   "source": [
    "train_variants = pd.read_csv(\"data/training_variants\")\n",
    "test_variants = pd.read_csv(\"data/test_variants\")\n",
    "\n",
    "train_text = pd.read_csv(\"data/training_text\", sep=\"\\|\\|\", engine=\"python\", skiprows=1, names=[\"ID\",\"Text\"])\n",
    "test_text = pd.read_csv(\"data/test_text\", sep=\"\\|\\|\", engine=\"python\", skiprows=1, names=[\"ID\",\"Text\"])"
   ]
  },
  {
   "cell_type": "markdown",
   "metadata": {},
   "source": [
    "## Análise Exploratória de Dados"
   ]
  },
  {
   "cell_type": "markdown",
   "metadata": {},
   "source": [
    "Aalisando o shape dos arquivos"
   ]
  },
  {
   "cell_type": "code",
   "execution_count": 3,
   "metadata": {},
   "outputs": [
    {
     "name": "stdout",
     "output_type": "stream",
     "text": [
      "Train and Test variants shape :  (3321, 4) (5668, 3)\n",
      "Train and Test text shape :  (139, 2) (139, 2)\n"
     ]
    }
   ],
   "source": [
    "print(\"Train and Test variants shape : \",train_variants.shape, test_variants.shape)\n",
    "print(\"Train and Test text shape : \",train_text.shape, test_text.shape)"
   ]
  },
  {
   "cell_type": "markdown",
   "metadata": {},
   "source": [
    "Visualizando as primeiras linhas do dataset de treino (variantes)"
   ]
  },
  {
   "cell_type": "code",
   "execution_count": 4,
   "metadata": {},
   "outputs": [
    {
     "data": {
      "text/html": [
       "<div>\n",
       "<style scoped>\n",
       "    .dataframe tbody tr th:only-of-type {\n",
       "        vertical-align: middle;\n",
       "    }\n",
       "\n",
       "    .dataframe tbody tr th {\n",
       "        vertical-align: top;\n",
       "    }\n",
       "\n",
       "    .dataframe thead th {\n",
       "        text-align: right;\n",
       "    }\n",
       "</style>\n",
       "<table border=\"1\" class=\"dataframe\">\n",
       "  <thead>\n",
       "    <tr style=\"text-align: right;\">\n",
       "      <th></th>\n",
       "      <th>ID</th>\n",
       "      <th>Gene</th>\n",
       "      <th>Variation</th>\n",
       "      <th>Class</th>\n",
       "    </tr>\n",
       "  </thead>\n",
       "  <tbody>\n",
       "    <tr>\n",
       "      <th>0</th>\n",
       "      <td>0</td>\n",
       "      <td>FAM58A</td>\n",
       "      <td>Truncating Mutations</td>\n",
       "      <td>1</td>\n",
       "    </tr>\n",
       "    <tr>\n",
       "      <th>1</th>\n",
       "      <td>1</td>\n",
       "      <td>CBL</td>\n",
       "      <td>W802*</td>\n",
       "      <td>2</td>\n",
       "    </tr>\n",
       "    <tr>\n",
       "      <th>2</th>\n",
       "      <td>2</td>\n",
       "      <td>CBL</td>\n",
       "      <td>Q249E</td>\n",
       "      <td>2</td>\n",
       "    </tr>\n",
       "    <tr>\n",
       "      <th>3</th>\n",
       "      <td>3</td>\n",
       "      <td>CBL</td>\n",
       "      <td>N454D</td>\n",
       "      <td>3</td>\n",
       "    </tr>\n",
       "    <tr>\n",
       "      <th>4</th>\n",
       "      <td>4</td>\n",
       "      <td>CBL</td>\n",
       "      <td>L399V</td>\n",
       "      <td>4</td>\n",
       "    </tr>\n",
       "  </tbody>\n",
       "</table>\n",
       "</div>"
      ],
      "text/plain": [
       "   ID    Gene             Variation  Class\n",
       "0   0  FAM58A  Truncating Mutations      1\n",
       "1   1     CBL                 W802*      2\n",
       "2   2     CBL                 Q249E      2\n",
       "3   3     CBL                 N454D      3\n",
       "4   4     CBL                 L399V      4"
      ]
     },
     "execution_count": 4,
     "metadata": {},
     "output_type": "execute_result"
    }
   ],
   "source": [
    "train_variants.head()"
   ]
  },
  {
   "cell_type": "markdown",
   "metadata": {},
   "source": [
    "Visualizando as primeiras linhas do dataset de treino (texto)"
   ]
  },
  {
   "cell_type": "code",
   "execution_count": 5,
   "metadata": {},
   "outputs": [
    {
     "data": {
      "text/html": [
       "<div>\n",
       "<style scoped>\n",
       "    .dataframe tbody tr th:only-of-type {\n",
       "        vertical-align: middle;\n",
       "    }\n",
       "\n",
       "    .dataframe tbody tr th {\n",
       "        vertical-align: top;\n",
       "    }\n",
       "\n",
       "    .dataframe thead th {\n",
       "        text-align: right;\n",
       "    }\n",
       "</style>\n",
       "<table border=\"1\" class=\"dataframe\">\n",
       "  <thead>\n",
       "    <tr style=\"text-align: right;\">\n",
       "      <th></th>\n",
       "      <th>ID</th>\n",
       "      <th>Text</th>\n",
       "    </tr>\n",
       "  </thead>\n",
       "  <tbody>\n",
       "    <tr>\n",
       "      <th>0</th>\n",
       "      <td>0</td>\n",
       "      <td>Cyclin-dependent kinases (CDKs) regulate a var...</td>\n",
       "    </tr>\n",
       "    <tr>\n",
       "      <th>1</th>\n",
       "      <td>1</td>\n",
       "      <td>Abstract Background  Non-small cell lung canc...</td>\n",
       "    </tr>\n",
       "    <tr>\n",
       "      <th>2</th>\n",
       "      <td>2</td>\n",
       "      <td>Abstract Background  Non-small cell lung canc...</td>\n",
       "    </tr>\n",
       "    <tr>\n",
       "      <th>3</th>\n",
       "      <td>3</td>\n",
       "      <td>Recent evidence has demonstrated that acquired...</td>\n",
       "    </tr>\n",
       "    <tr>\n",
       "      <th>4</th>\n",
       "      <td>4</td>\n",
       "      <td>Oncogenic mutations in the monomeric Casitas B...</td>\n",
       "    </tr>\n",
       "  </tbody>\n",
       "</table>\n",
       "</div>"
      ],
      "text/plain": [
       "   ID                                               Text\n",
       "0   0  Cyclin-dependent kinases (CDKs) regulate a var...\n",
       "1   1   Abstract Background  Non-small cell lung canc...\n",
       "2   2   Abstract Background  Non-small cell lung canc...\n",
       "3   3  Recent evidence has demonstrated that acquired...\n",
       "4   4  Oncogenic mutations in the monomeric Casitas B..."
      ]
     },
     "execution_count": 5,
     "metadata": {},
     "output_type": "execute_result"
    }
   ],
   "source": [
    "train_text.head()"
   ]
  },
  {
   "cell_type": "markdown",
   "metadata": {},
   "source": [
    "Verificando a quantidade de registros unicos para cada coluna"
   ]
  },
  {
   "cell_type": "code",
   "execution_count": 6,
   "metadata": {},
   "outputs": [
    {
     "name": "stdout",
     "output_type": "stream",
     "text": [
      "Unique IDs:  3321\n",
      "Unique Genes:  264\n",
      "Unique Variations:  2996\n",
      "Unique Classes:  9\n"
     ]
    }
   ],
   "source": [
    "print(\"Unique IDs: \", len(train_variants.ID.unique()))\n",
    "print(\"Unique Genes: \", len(train_variants.Gene.unique()))\n",
    "print(\"Unique Variations: \", len(train_variants.Variation.unique()))\n",
    "print(\"Unique Classes: \", len(train_variants.Class.unique()))"
   ]
  },
  {
   "cell_type": "markdown",
   "metadata": {},
   "source": [
    "Verificando valores missing"
   ]
  },
  {
   "cell_type": "code",
   "execution_count": 7,
   "metadata": {},
   "outputs": [],
   "source": [
    "def percent_missing(df):\n",
    "    data = pd.DataFrame(df)\n",
    "    df_cols = list(pd.DataFrame(data))\n",
    "    dict_x = {}\n",
    "    for i in range(0, len(df_cols)):\n",
    "        dict_x.update({df_cols[i]: round(data[df_cols[i]].isnull().mean()*100,2)})\n",
    "    \n",
    "    return dict_x"
   ]
  },
  {
   "cell_type": "code",
   "execution_count": 8,
   "metadata": {},
   "outputs": [
    {
     "name": "stdout",
     "output_type": "stream",
     "text": [
      "Percent of missing for train_variants: \n"
     ]
    },
    {
     "data": {
      "text/plain": [
       "[('ID', 0.0), ('Gene', 0.0), ('Variation', 0.0), ('Class', 0.0)]"
      ]
     },
     "execution_count": 8,
     "metadata": {},
     "output_type": "execute_result"
    }
   ],
   "source": [
    "missing = percent_missing(train_variants)\n",
    "df_miss = sorted(missing.items(), key=lambda x: x[1], reverse=True)\n",
    "print('Percent of missing for train_variants: ')\n",
    "df_miss[0:6]"
   ]
  },
  {
   "cell_type": "code",
   "execution_count": 9,
   "metadata": {},
   "outputs": [
    {
     "name": "stdout",
     "output_type": "stream",
     "text": [
      "Percent of missing for train_text: \n"
     ]
    },
    {
     "data": {
      "text/plain": [
       "[('ID', 0.0), ('Text', 0.0)]"
      ]
     },
     "execution_count": 9,
     "metadata": {},
     "output_type": "execute_result"
    }
   ],
   "source": [
    "missing = percent_missing(train_text)\n",
    "df_miss = sorted(missing.items(), key=lambda x: x[1], reverse=True)\n",
    "print('Percent of missing for train_text: ')\n",
    "df_miss[0:6]"
   ]
  },
  {
   "cell_type": "markdown",
   "metadata": {},
   "source": [
    "Verificando a distribuicao de frequencia das classes usando o countplot (nosso TARGET)"
   ]
  },
  {
   "cell_type": "code",
   "execution_count": 10,
   "metadata": {},
   "outputs": [
    {
     "data": {
      "image/png": "[encoded data removed]",
      "text/plain": [
       "<Figure size 864x576 with 1 Axes>"
      ]
     },
     "metadata": {
      "needs_background": "light"
     },
     "output_type": "display_data"
    }
   ],
   "source": [
    "plt.figure(figsize=(12,8))\n",
    "sns.countplot(x=\"Class\", data=train_variants)\n",
    "plt.ylabel('Frequency', fontsize=12)\n",
    "plt.xlabel('Class Count', fontsize=12)\n",
    "plt.xticks(rotation='vertical')\n",
    "plt.title(\"Frequencia das Classes\", fontsize=15)\n",
    "plt.show()"
   ]
  },
  {
   "cell_type": "code",
   "execution_count": 11,
   "metadata": {},
   "outputs": [
    {
     "data": {
      "image/png": "[encoded data removed]",
      "text/plain": [
       "<Figure size 864x576 with 1 Axes>"
      ]
     },
     "metadata": {
      "needs_background": "light"
     },
     "output_type": "display_data"
    }
   ],
   "source": [
    "plt.figure(figsize=(12,8))\n",
    "sns.countplot(x=\"Gene\", data=train_variants)\n",
    "plt.ylabel('Frequency', fontsize=12)\n",
    "plt.xlabel('Gene Count', fontsize=12)\n",
    "plt.xticks(rotation='vertical')\n",
    "plt.title(\"Frequencia das Genes\", fontsize=15)\n",
    "plt.show()"
   ]
  },
  {
   "cell_type": "markdown",
   "metadata": {},
   "source": [
    "Com esse grafico percebemos que apenas alguns Genes estao acima de 100 registros"
   ]
  },
  {
   "cell_type": "markdown",
   "metadata": {},
   "source": [
    "Verificando a distribuicao de frequencia da coluna \"Gene\" usando um distplot"
   ]
  },
  {
   "cell_type": "code",
   "execution_count": 12,
   "metadata": {},
   "outputs": [],
   "source": [
    "group_gene_train = train_variants.groupby('Gene')['Gene'].count()"
   ]
  },
  {
   "cell_type": "code",
   "execution_count": 13,
   "metadata": {},
   "outputs": [
    {
     "data": {
      "image/png": "[encoded data removed]",
      "text/plain": [
       "<Figure size 864x576 with 1 Axes>"
      ]
     },
     "metadata": {},
     "output_type": "display_data"
    }
   ],
   "source": [
    "from scipy.stats import skew, norm\n",
    "from scipy import stats\n",
    "\n",
    "sns.set_style(\"white\")\n",
    "sns.set_color_codes(palette='deep')\n",
    "f, ax = plt.subplots(figsize=(12, 8))\n",
    "\n",
    "# Fit a normal distribution\n",
    "mu, std = norm.fit(group_gene_train)\n",
    "\n",
    "# Verificando a distribuicao de frequencia da coluna GENE\n",
    "sns.distplot(group_gene_train, color=\"b\", fit = stats.norm, bins=50);\n",
    "ax.xaxis.grid(False)\n",
    "ax.set(ylabel=\"Frequency\")\n",
    "ax.set(xlabel=\"Gene\")\n",
    "ax.set(title=\"Gene distribution: mu = %.2f,  std = %.2f\" % (mu, std))\n",
    "sns.despine(trim=True, left=True)\n",
    "\n",
    "ax.text(x=1.1, y=1, transform=ax.transAxes, s=\"Skewness: %f\" % group_gene_train.skew(),\\\n",
    "        fontweight='demibold', fontsize=10, verticalalignment='top', horizontalalignment='right',\\\n",
    "        backgroundcolor='white', color='xkcd:poo brown')\n",
    "ax.text(x=1.1, y=0.95, transform=ax.transAxes, s=\"Kurtosis: %f\" % group_gene_train.kurt(),\\\n",
    "        fontweight='demibold', fontsize=10, verticalalignment='top', horizontalalignment='right',\\\n",
    "        backgroundcolor='white', color='xkcd:dried blood')\n",
    "\n",
    "\n",
    "plt.show()"
   ]
  },
  {
   "cell_type": "markdown",
   "metadata": {},
   "source": [
    "Verificando a distribuicao de frequencia da coluna \"Variation\""
   ]
  },
  {
   "cell_type": "code",
   "execution_count": 14,
   "metadata": {},
   "outputs": [],
   "source": [
    "group_variation = train_variants.groupby('Variation')['Variation'].count()"
   ]
  },
  {
   "cell_type": "code",
   "execution_count": 15,
   "metadata": {},
   "outputs": [
    {
     "data": {
      "image/png": "[encoded data removed]",
      "text/plain": [
       "<Figure size 864x576 with 1 Axes>"
      ]
     },
     "metadata": {},
     "output_type": "display_data"
    }
   ],
   "source": [
    "sns.set_style(\"white\")\n",
    "sns.set_color_codes(palette='deep')\n",
    "f, ax = plt.subplots(figsize=(12, 8))\n",
    "\n",
    "# Fit a normal distribution\n",
    "mu, std = norm.fit(group_variation)\n",
    "\n",
    "# Verificando a distribuicao de frequencia da coluna Variation\n",
    "sns.distplot(group_variation, color=\"b\", fit = stats.norm, bins=50);\n",
    "ax.xaxis.grid(False)\n",
    "ax.set(ylabel=\"Frequency\")\n",
    "ax.set(xlabel=\"Variation\")\n",
    "ax.set(title=\"Variation distribution: mu = %.2f,  std = %.2f\" % (mu, std))\n",
    "sns.despine(trim=True, left=True)\n",
    "\n",
    "ax.text(x=1.1, y=1, transform=ax.transAxes, s=\"Skewness: %f\" % group_variation.skew(),\\\n",
    "        fontweight='demibold', fontsize=10, verticalalignment='top', horizontalalignment='right',\\\n",
    "        backgroundcolor='white', color='xkcd:poo brown')\n",
    "ax.text(x=1.1, y=0.95, transform=ax.transAxes, s=\"Kurtosis: %f\" % group_variation.kurt(),\\\n",
    "        fontweight='demibold', fontsize=10, verticalalignment='top', horizontalalignment='right',\\\n",
    "        backgroundcolor='white', color='xkcd:dried blood')\n",
    "\n",
    "\n",
    "plt.show()"
   ]
  },
  {
   "cell_type": "markdown",
   "metadata": {},
   "source": [
    "Verificando a quantidade de cada um dos textos"
   ]
  },
  {
   "cell_type": "code",
   "execution_count": 16,
   "metadata": {},
   "outputs": [
    {
     "data": {
      "text/html": [
       "<div>\n",
       "<style scoped>\n",
       "    .dataframe tbody tr th:only-of-type {\n",
       "        vertical-align: middle;\n",
       "    }\n",
       "\n",
       "    .dataframe tbody tr th {\n",
       "        vertical-align: top;\n",
       "    }\n",
       "\n",
       "    .dataframe thead th {\n",
       "        text-align: right;\n",
       "    }\n",
       "</style>\n",
       "<table border=\"1\" class=\"dataframe\">\n",
       "  <thead>\n",
       "    <tr style=\"text-align: right;\">\n",
       "      <th></th>\n",
       "      <th>ID</th>\n",
       "      <th>Text</th>\n",
       "      <th>text_count</th>\n",
       "    </tr>\n",
       "  </thead>\n",
       "  <tbody>\n",
       "    <tr>\n",
       "      <th>0</th>\n",
       "      <td>0</td>\n",
       "      <td>Cyclin-dependent kinases (CDKs) regulate a var...</td>\n",
       "      <td>6089</td>\n",
       "    </tr>\n",
       "    <tr>\n",
       "      <th>1</th>\n",
       "      <td>1</td>\n",
       "      <td>Abstract Background  Non-small cell lung canc...</td>\n",
       "      <td>5756</td>\n",
       "    </tr>\n",
       "    <tr>\n",
       "      <th>2</th>\n",
       "      <td>2</td>\n",
       "      <td>Abstract Background  Non-small cell lung canc...</td>\n",
       "      <td>5756</td>\n",
       "    </tr>\n",
       "    <tr>\n",
       "      <th>3</th>\n",
       "      <td>3</td>\n",
       "      <td>Recent evidence has demonstrated that acquired...</td>\n",
       "      <td>5572</td>\n",
       "    </tr>\n",
       "    <tr>\n",
       "      <th>4</th>\n",
       "      <td>4</td>\n",
       "      <td>Oncogenic mutations in the monomeric Casitas B...</td>\n",
       "      <td>6202</td>\n",
       "    </tr>\n",
       "  </tbody>\n",
       "</table>\n",
       "</div>"
      ],
      "text/plain": [
       "   ID                                               Text  text_count\n",
       "0   0  Cyclin-dependent kinases (CDKs) regulate a var...        6089\n",
       "1   1   Abstract Background  Non-small cell lung canc...        5756\n",
       "2   2   Abstract Background  Non-small cell lung canc...        5756\n",
       "3   3  Recent evidence has demonstrated that acquired...        5572\n",
       "4   4  Oncogenic mutations in the monomeric Casitas B...        6202"
      ]
     },
     "execution_count": 16,
     "metadata": {},
     "output_type": "execute_result"
    }
   ],
   "source": [
    "train_text.loc[:, 'text_count'] = train_text[\"Text\"].apply(lambda x: len(x.split()))\n",
    "train_text.head()"
   ]
  },
  {
   "cell_type": "code",
   "execution_count": 17,
   "metadata": {},
   "outputs": [
    {
     "data": {
      "text/html": [
       "<div>\n",
       "<style scoped>\n",
       "    .dataframe tbody tr th:only-of-type {\n",
       "        vertical-align: middle;\n",
       "    }\n",
       "\n",
       "    .dataframe tbody tr th {\n",
       "        vertical-align: top;\n",
       "    }\n",
       "\n",
       "    .dataframe thead th {\n",
       "        text-align: right;\n",
       "    }\n",
       "</style>\n",
       "<table border=\"1\" class=\"dataframe\">\n",
       "  <thead>\n",
       "    <tr style=\"text-align: right;\">\n",
       "      <th></th>\n",
       "      <th>ID</th>\n",
       "      <th>Text</th>\n",
       "      <th>text_count</th>\n",
       "    </tr>\n",
       "  </thead>\n",
       "  <tbody>\n",
       "    <tr>\n",
       "      <th>0</th>\n",
       "      <td>0</td>\n",
       "      <td>Cyclin-dependent kinases (CDKs) regulate a var...</td>\n",
       "      <td>6089</td>\n",
       "    </tr>\n",
       "    <tr>\n",
       "      <th>1</th>\n",
       "      <td>1</td>\n",
       "      <td>Abstract Background  Non-small cell lung canc...</td>\n",
       "      <td>5756</td>\n",
       "    </tr>\n",
       "    <tr>\n",
       "      <th>2</th>\n",
       "      <td>2</td>\n",
       "      <td>Abstract Background  Non-small cell lung canc...</td>\n",
       "      <td>5756</td>\n",
       "    </tr>\n",
       "    <tr>\n",
       "      <th>3</th>\n",
       "      <td>3</td>\n",
       "      <td>Recent evidence has demonstrated that acquired...</td>\n",
       "      <td>5572</td>\n",
       "    </tr>\n",
       "    <tr>\n",
       "      <th>4</th>\n",
       "      <td>4</td>\n",
       "      <td>Oncogenic mutations in the monomeric Casitas B...</td>\n",
       "      <td>6202</td>\n",
       "    </tr>\n",
       "  </tbody>\n",
       "</table>\n",
       "</div>"
      ],
      "text/plain": [
       "   ID                                               Text  text_count\n",
       "0   0  Cyclin-dependent kinases (CDKs) regulate a var...        6089\n",
       "1   1   Abstract Background  Non-small cell lung canc...        5756\n",
       "2   2   Abstract Background  Non-small cell lung canc...        5756\n",
       "3   3  Recent evidence has demonstrated that acquired...        5572\n",
       "4   4  Oncogenic mutations in the monomeric Casitas B...        6202"
      ]
     },
     "execution_count": 17,
     "metadata": {},
     "output_type": "execute_result"
    }
   ],
   "source": [
    "test_text.loc[:, 'text_count'] = test_text[\"Text\"].apply(lambda x: len(x.split()))\n",
    "test_text.head()"
   ]
  },
  {
   "cell_type": "markdown",
   "metadata": {},
   "source": [
    "Vamos fazer o merge dos dois dataset unindo pelo ID"
   ]
  },
  {
   "cell_type": "code",
   "execution_count": 18,
   "metadata": {},
   "outputs": [],
   "source": [
    "train_full = pd.merge(train_variants, train_text, how='left', on='ID')\n",
    "test_full = pd.merge(test_variants, test_text, how='left', on='ID')"
   ]
  },
  {
   "cell_type": "code",
   "execution_count": 19,
   "metadata": {},
   "outputs": [
    {
     "data": {
      "text/html": [
       "<div>\n",
       "<style scoped>\n",
       "    .dataframe tbody tr th:only-of-type {\n",
       "        vertical-align: middle;\n",
       "    }\n",
       "\n",
       "    .dataframe tbody tr th {\n",
       "        vertical-align: top;\n",
       "    }\n",
       "\n",
       "    .dataframe thead th {\n",
       "        text-align: right;\n",
       "    }\n",
       "</style>\n",
       "<table border=\"1\" class=\"dataframe\">\n",
       "  <thead>\n",
       "    <tr style=\"text-align: right;\">\n",
       "      <th></th>\n",
       "      <th>ID</th>\n",
       "      <th>Gene</th>\n",
       "      <th>Variation</th>\n",
       "      <th>Class</th>\n",
       "      <th>Text</th>\n",
       "      <th>text_count</th>\n",
       "    </tr>\n",
       "  </thead>\n",
       "  <tbody>\n",
       "    <tr>\n",
       "      <th>0</th>\n",
       "      <td>0</td>\n",
       "      <td>FAM58A</td>\n",
       "      <td>Truncating Mutations</td>\n",
       "      <td>1</td>\n",
       "      <td>Cyclin-dependent kinases (CDKs) regulate a var...</td>\n",
       "      <td>6089.0</td>\n",
       "    </tr>\n",
       "    <tr>\n",
       "      <th>1</th>\n",
       "      <td>1</td>\n",
       "      <td>CBL</td>\n",
       "      <td>W802*</td>\n",
       "      <td>2</td>\n",
       "      <td>Abstract Background  Non-small cell lung canc...</td>\n",
       "      <td>5756.0</td>\n",
       "    </tr>\n",
       "    <tr>\n",
       "      <th>2</th>\n",
       "      <td>2</td>\n",
       "      <td>CBL</td>\n",
       "      <td>Q249E</td>\n",
       "      <td>2</td>\n",
       "      <td>Abstract Background  Non-small cell lung canc...</td>\n",
       "      <td>5756.0</td>\n",
       "    </tr>\n",
       "    <tr>\n",
       "      <th>3</th>\n",
       "      <td>3</td>\n",
       "      <td>CBL</td>\n",
       "      <td>N454D</td>\n",
       "      <td>3</td>\n",
       "      <td>Recent evidence has demonstrated that acquired...</td>\n",
       "      <td>5572.0</td>\n",
       "    </tr>\n",
       "    <tr>\n",
       "      <th>4</th>\n",
       "      <td>4</td>\n",
       "      <td>CBL</td>\n",
       "      <td>L399V</td>\n",
       "      <td>4</td>\n",
       "      <td>Oncogenic mutations in the monomeric Casitas B...</td>\n",
       "      <td>6202.0</td>\n",
       "    </tr>\n",
       "  </tbody>\n",
       "</table>\n",
       "</div>"
      ],
      "text/plain": [
       "   ID    Gene             Variation  Class  \\\n",
       "0   0  FAM58A  Truncating Mutations      1   \n",
       "1   1     CBL                 W802*      2   \n",
       "2   2     CBL                 Q249E      2   \n",
       "3   3     CBL                 N454D      3   \n",
       "4   4     CBL                 L399V      4   \n",
       "\n",
       "                                                Text  text_count  \n",
       "0  Cyclin-dependent kinases (CDKs) regulate a var...      6089.0  \n",
       "1   Abstract Background  Non-small cell lung canc...      5756.0  \n",
       "2   Abstract Background  Non-small cell lung canc...      5756.0  \n",
       "3  Recent evidence has demonstrated that acquired...      5572.0  \n",
       "4  Oncogenic mutations in the monomeric Casitas B...      6202.0  "
      ]
     },
     "execution_count": 19,
     "metadata": {},
     "output_type": "execute_result"
    }
   ],
   "source": [
    "train_full.head()"
   ]
  },
  {
   "cell_type": "code",
   "execution_count": 20,
   "metadata": {},
   "outputs": [
    {
     "data": {
      "text/html": [
       "<div>\n",
       "<style scoped>\n",
       "    .dataframe tbody tr th:only-of-type {\n",
       "        vertical-align: middle;\n",
       "    }\n",
       "\n",
       "    .dataframe tbody tr th {\n",
       "        vertical-align: top;\n",
       "    }\n",
       "\n",
       "    .dataframe thead th {\n",
       "        text-align: right;\n",
       "    }\n",
       "</style>\n",
       "<table border=\"1\" class=\"dataframe\">\n",
       "  <thead>\n",
       "    <tr style=\"text-align: right;\">\n",
       "      <th></th>\n",
       "      <th>ID</th>\n",
       "      <th>Gene</th>\n",
       "      <th>Variation</th>\n",
       "      <th>Text</th>\n",
       "      <th>text_count</th>\n",
       "    </tr>\n",
       "  </thead>\n",
       "  <tbody>\n",
       "    <tr>\n",
       "      <th>0</th>\n",
       "      <td>0</td>\n",
       "      <td>ACSL4</td>\n",
       "      <td>R570S</td>\n",
       "      <td>Cyclin-dependent kinases (CDKs) regulate a var...</td>\n",
       "      <td>6089.0</td>\n",
       "    </tr>\n",
       "    <tr>\n",
       "      <th>1</th>\n",
       "      <td>1</td>\n",
       "      <td>NAGLU</td>\n",
       "      <td>P521L</td>\n",
       "      <td>Abstract Background  Non-small cell lung canc...</td>\n",
       "      <td>5756.0</td>\n",
       "    </tr>\n",
       "    <tr>\n",
       "      <th>2</th>\n",
       "      <td>2</td>\n",
       "      <td>PAH</td>\n",
       "      <td>L333F</td>\n",
       "      <td>Abstract Background  Non-small cell lung canc...</td>\n",
       "      <td>5756.0</td>\n",
       "    </tr>\n",
       "    <tr>\n",
       "      <th>3</th>\n",
       "      <td>3</td>\n",
       "      <td>ING1</td>\n",
       "      <td>A148D</td>\n",
       "      <td>Recent evidence has demonstrated that acquired...</td>\n",
       "      <td>5572.0</td>\n",
       "    </tr>\n",
       "    <tr>\n",
       "      <th>4</th>\n",
       "      <td>4</td>\n",
       "      <td>TMEM216</td>\n",
       "      <td>G77A</td>\n",
       "      <td>Oncogenic mutations in the monomeric Casitas B...</td>\n",
       "      <td>6202.0</td>\n",
       "    </tr>\n",
       "  </tbody>\n",
       "</table>\n",
       "</div>"
      ],
      "text/plain": [
       "   ID     Gene Variation                                               Text  \\\n",
       "0   0    ACSL4     R570S  Cyclin-dependent kinases (CDKs) regulate a var...   \n",
       "1   1    NAGLU     P521L   Abstract Background  Non-small cell lung canc...   \n",
       "2   2      PAH     L333F   Abstract Background  Non-small cell lung canc...   \n",
       "3   3     ING1     A148D  Recent evidence has demonstrated that acquired...   \n",
       "4   4  TMEM216      G77A  Oncogenic mutations in the monomeric Casitas B...   \n",
       "\n",
       "   text_count  \n",
       "0      6089.0  \n",
       "1      5756.0  \n",
       "2      5756.0  \n",
       "3      5572.0  \n",
       "4      6202.0  "
      ]
     },
     "execution_count": 20,
     "metadata": {},
     "output_type": "execute_result"
    }
   ],
   "source": [
    "test_full.head()"
   ]
  },
  {
   "cell_type": "markdown",
   "metadata": {},
   "source": [
    "Verificando valores null após o merge"
   ]
  },
  {
   "cell_type": "code",
   "execution_count": 21,
   "metadata": {},
   "outputs": [
    {
     "name": "stdout",
     "output_type": "stream",
     "text": [
      "Percent of missing for train_variants: \n"
     ]
    },
    {
     "data": {
      "text/plain": [
       "[('Text', 95.81),\n",
       " ('text_count', 95.81),\n",
       " ('ID', 0.0),\n",
       " ('Gene', 0.0),\n",
       " ('Variation', 0.0),\n",
       " ('Class', 0.0)]"
      ]
     },
     "execution_count": 21,
     "metadata": {},
     "output_type": "execute_result"
    }
   ],
   "source": [
    "missing = percent_missing(train_full)\n",
    "df_miss = sorted(missing.items(), key=lambda x: x[1], reverse=True)\n",
    "print('Percent of missing for train_variants: ')\n",
    "df_miss[0:6]"
   ]
  },
  {
   "cell_type": "code",
   "execution_count": 22,
   "metadata": {},
   "outputs": [
    {
     "name": "stdout",
     "output_type": "stream",
     "text": [
      "Percent of missing for train_variants: \n"
     ]
    },
    {
     "data": {
      "text/plain": [
       "[('Text', 97.55),\n",
       " ('text_count', 97.55),\n",
       " ('ID', 0.0),\n",
       " ('Gene', 0.0),\n",
       " ('Variation', 0.0)]"
      ]
     },
     "execution_count": 22,
     "metadata": {},
     "output_type": "execute_result"
    }
   ],
   "source": [
    "missing = percent_missing(test_full)\n",
    "df_miss = sorted(missing.items(), key=lambda x: x[1], reverse=True)\n",
    "print('Percent of missing for train_variants: ')\n",
    "df_miss[0:6]"
   ]
  },
  {
   "cell_type": "markdown",
   "metadata": {},
   "source": [
    "Removendo valores nulos dos datasets e treino e teste"
   ]
  },
  {
   "cell_type": "code",
   "execution_count": 23,
   "metadata": {},
   "outputs": [],
   "source": [
    "train_full = train_full.dropna()\n",
    "test_full = test_full.dropna()"
   ]
  },
  {
   "cell_type": "markdown",
   "metadata": {},
   "source": [
    "Tem alguns registros com texto duplicado para a mesma classe. Vamos agrupar e dar uma olhada nos dados estatisticos atraves da funcao describe"
   ]
  },
  {
   "cell_type": "code",
   "execution_count": 24,
   "metadata": {},
   "outputs": [],
   "source": [
    "group_class = train_full.groupby('Class')[\"text_count\"]"
   ]
  },
  {
   "cell_type": "code",
   "execution_count": 25,
   "metadata": {},
   "outputs": [
    {
     "data": {
      "text/html": [
       "<div>\n",
       "<style scoped>\n",
       "    .dataframe tbody tr th:only-of-type {\n",
       "        vertical-align: middle;\n",
       "    }\n",
       "\n",
       "    .dataframe tbody tr th {\n",
       "        vertical-align: top;\n",
       "    }\n",
       "\n",
       "    .dataframe thead th {\n",
       "        text-align: right;\n",
       "    }\n",
       "</style>\n",
       "<table border=\"1\" class=\"dataframe\">\n",
       "  <thead>\n",
       "    <tr style=\"text-align: right;\">\n",
       "      <th></th>\n",
       "      <th>count</th>\n",
       "      <th>mean</th>\n",
       "      <th>std</th>\n",
       "      <th>min</th>\n",
       "      <th>25%</th>\n",
       "      <th>50%</th>\n",
       "      <th>75%</th>\n",
       "      <th>max</th>\n",
       "    </tr>\n",
       "    <tr>\n",
       "      <th>Class</th>\n",
       "      <th></th>\n",
       "      <th></th>\n",
       "      <th></th>\n",
       "      <th></th>\n",
       "      <th></th>\n",
       "      <th></th>\n",
       "      <th></th>\n",
       "      <th></th>\n",
       "    </tr>\n",
       "  </thead>\n",
       "  <tbody>\n",
       "    <tr>\n",
       "      <th>1</th>\n",
       "      <td>37.0</td>\n",
       "      <td>10527.918919</td>\n",
       "      <td>7998.692117</td>\n",
       "      <td>2419.0</td>\n",
       "      <td>3715.00</td>\n",
       "      <td>8011.0</td>\n",
       "      <td>17335.0</td>\n",
       "      <td>30856.0</td>\n",
       "    </tr>\n",
       "    <tr>\n",
       "      <th>2</th>\n",
       "      <td>10.0</td>\n",
       "      <td>7832.200000</td>\n",
       "      <td>2669.779467</td>\n",
       "      <td>5325.0</td>\n",
       "      <td>5904.75</td>\n",
       "      <td>6785.0</td>\n",
       "      <td>9063.0</td>\n",
       "      <td>12342.0</td>\n",
       "    </tr>\n",
       "    <tr>\n",
       "      <th>3</th>\n",
       "      <td>1.0</td>\n",
       "      <td>5572.000000</td>\n",
       "      <td>NaN</td>\n",
       "      <td>5572.0</td>\n",
       "      <td>5572.00</td>\n",
       "      <td>5572.0</td>\n",
       "      <td>5572.0</td>\n",
       "      <td>5572.0</td>\n",
       "    </tr>\n",
       "    <tr>\n",
       "      <th>4</th>\n",
       "      <td>53.0</td>\n",
       "      <td>6995.792453</td>\n",
       "      <td>5421.115580</td>\n",
       "      <td>1307.0</td>\n",
       "      <td>3539.00</td>\n",
       "      <td>5721.0</td>\n",
       "      <td>6648.0</td>\n",
       "      <td>25594.0</td>\n",
       "    </tr>\n",
       "    <tr>\n",
       "      <th>5</th>\n",
       "      <td>6.0</td>\n",
       "      <td>7930.666667</td>\n",
       "      <td>4778.826244</td>\n",
       "      <td>5654.0</td>\n",
       "      <td>5791.00</td>\n",
       "      <td>6202.0</td>\n",
       "      <td>6202.0</td>\n",
       "      <td>17670.0</td>\n",
       "    </tr>\n",
       "    <tr>\n",
       "      <th>6</th>\n",
       "      <td>1.0</td>\n",
       "      <td>11958.000000</td>\n",
       "      <td>NaN</td>\n",
       "      <td>11958.0</td>\n",
       "      <td>11958.00</td>\n",
       "      <td>11958.0</td>\n",
       "      <td>11958.0</td>\n",
       "      <td>11958.0</td>\n",
       "    </tr>\n",
       "    <tr>\n",
       "      <th>7</th>\n",
       "      <td>15.0</td>\n",
       "      <td>11165.266667</td>\n",
       "      <td>7149.797974</td>\n",
       "      <td>1.0</td>\n",
       "      <td>4347.00</td>\n",
       "      <td>12342.0</td>\n",
       "      <td>18343.0</td>\n",
       "      <td>21016.0</td>\n",
       "    </tr>\n",
       "    <tr>\n",
       "      <th>8</th>\n",
       "      <td>1.0</td>\n",
       "      <td>20626.000000</td>\n",
       "      <td>NaN</td>\n",
       "      <td>20626.0</td>\n",
       "      <td>20626.00</td>\n",
       "      <td>20626.0</td>\n",
       "      <td>20626.0</td>\n",
       "      <td>20626.0</td>\n",
       "    </tr>\n",
       "    <tr>\n",
       "      <th>9</th>\n",
       "      <td>15.0</td>\n",
       "      <td>11736.800000</td>\n",
       "      <td>10233.596360</td>\n",
       "      <td>1147.0</td>\n",
       "      <td>7440.50</td>\n",
       "      <td>10930.0</td>\n",
       "      <td>11497.0</td>\n",
       "      <td>45177.0</td>\n",
       "    </tr>\n",
       "  </tbody>\n",
       "</table>\n",
       "</div>"
      ],
      "text/plain": [
       "       count          mean           std      min       25%      50%      75%  \\\n",
       "Class                                                                           \n",
       "1       37.0  10527.918919   7998.692117   2419.0   3715.00   8011.0  17335.0   \n",
       "2       10.0   7832.200000   2669.779467   5325.0   5904.75   6785.0   9063.0   \n",
       "3        1.0   5572.000000           NaN   5572.0   5572.00   5572.0   5572.0   \n",
       "4       53.0   6995.792453   5421.115580   1307.0   3539.00   5721.0   6648.0   \n",
       "5        6.0   7930.666667   4778.826244   5654.0   5791.00   6202.0   6202.0   \n",
       "6        1.0  11958.000000           NaN  11958.0  11958.00  11958.0  11958.0   \n",
       "7       15.0  11165.266667   7149.797974      1.0   4347.00  12342.0  18343.0   \n",
       "8        1.0  20626.000000           NaN  20626.0  20626.00  20626.0  20626.0   \n",
       "9       15.0  11736.800000  10233.596360   1147.0   7440.50  10930.0  11497.0   \n",
       "\n",
       "           max  \n",
       "Class           \n",
       "1      30856.0  \n",
       "2      12342.0  \n",
       "3       5572.0  \n",
       "4      25594.0  \n",
       "5      17670.0  \n",
       "6      11958.0  \n",
       "7      21016.0  \n",
       "8      20626.0  \n",
       "9      45177.0  "
      ]
     },
     "execution_count": 25,
     "metadata": {},
     "output_type": "execute_result"
    }
   ],
   "source": [
    "group_class.describe()"
   ]
  },
  {
   "cell_type": "markdown",
   "metadata": {},
   "source": [
    "Existem algumas classes com somente um registro com texto sobre a mutacao genetica. "
   ]
  },
  {
   "cell_type": "markdown",
   "metadata": {},
   "source": [
    "Analisando como ficou a distribuicao das classes geneticas que tem evidencia clinica"
   ]
  },
  {
   "cell_type": "code",
   "execution_count": 26,
   "metadata": {},
   "outputs": [
    {
     "data": {
      "image/png": "[encoded data removed]",
      "text/plain": [
       "<Figure size 864x576 with 1 Axes>"
      ]
     },
     "metadata": {},
     "output_type": "display_data"
    }
   ],
   "source": [
    "plt.figure(figsize=(12,8))\n",
    "sns.countplot(x=\"Class\", data=train_full)\n",
    "plt.ylabel('Frequency', fontsize=12)\n",
    "plt.xlabel('Class Count', fontsize=12)\n",
    "plt.xticks(rotation='vertical')\n",
    "plt.title(\"Frequencia das Classes com Evidencia Clinica\", fontsize=15)\n",
    "plt.show()"
   ]
  },
  {
   "cell_type": "markdown",
   "metadata": {},
   "source": [
    "Vamos verificar o numero de palavras usando um boxplot para cada uma das classes"
   ]
  },
  {
   "cell_type": "code",
   "execution_count": 27,
   "metadata": {},
   "outputs": [
    {
     "data": {
      "image/png": "[encoded data removed]",
      "text/plain": [
       "<Figure size 864x576 with 1 Axes>"
      ]
     },
     "metadata": {},
     "output_type": "display_data"
    }
   ],
   "source": [
    "plt.figure(figsize=(12,8))\n",
    "sns.boxplot(x='Class', y='text_count', data=train_full)\n",
    "plt.xlabel('Classes', fontsize=12)\n",
    "plt.ylabel('Text - Numero de Palavras', fontsize=12)\n",
    "plt.show()"
   ]
  },
  {
   "cell_type": "markdown",
   "metadata": {},
   "source": [
    "### Resumo Geral dessa primeira análise exploratória\n",
    "\n",
    "- Existem 3321 IDs diferentes no conjunto de treinamento contendo 264 expressões de Genes diferentes com 2996 variações. Existem 9 classes diferentes indicadas por numeros inteiros.\n",
    "\n",
    "- Há 5668 IDs diferentes no dataset de teste (70,6% a mais dados que no dataset de treinamento). A descrição no Kaggle diz que \"...Some of the test data is machine-generated to prevent hand labeling. You will submit all the results of your classification algorithm, and we will ignore the machine-generated samples...\", o que deve explicar esse desequilíbrio.\n",
    "\n",
    "- Não há valores missing no dataset das variants\n",
    "\n",
    "Observacoes sobre a nossa variavel TARGET:\n",
    "\n",
    "- As classes 3, 8, e 9 nao possuem muita representatividade nos dados\n",
    "- As classes 5 e 6 estao bem proximas e com uma frequencia media\n",
    "- As classes 1, 2, e 4 estao em uma frequencia media-alta\n",
    "- A classe 7 é a mais frequente\n"
   ]
  },
  {
   "cell_type": "markdown",
   "metadata": {},
   "source": [
    "## Preparando os Dados de Texto"
   ]
  },
  {
   "cell_type": "markdown",
   "metadata": {},
   "source": [
    "Criando algumas funcoes para limpeza do texto"
   ]
  },
  {
   "cell_type": "code",
   "execution_count": 28,
   "metadata": {},
   "outputs": [],
   "source": [
    "from nltk.corpus import stopwords\n",
    "from gensim.models.doc2vec import LabeledSentence\n",
    "from gensim import utils\n",
    "import re\n",
    "import string\n",
    "\n",
    "def constructLabeledSentences(data):\n",
    "    sentences=[]\n",
    "    for index, row in data.iteritems():\n",
    "        sentences.append(LabeledSentence(utils.to_unicode(row).split(), ['Text' + '_%s' % str(index)]))\n",
    "    return sentences\n",
    "\n",
    "def textClean(text):\n",
    "    text = re.sub(r\"[^A-Za-z0-9^,!.\\/'+-=]\", \" \", text)\n",
    "    text = text.lower().split()\n",
    "    stops = set(stopwords.words(\"english\"))\n",
    "    text = [w for w in text if not w in stops]    \n",
    "    text = \" \".join(text)\n",
    "    return(text)\n",
    "    \n",
    "def cleanup(text):\n",
    "    text = textClean(text)\n",
    "    text= text.translate(str.maketrans(\"\",\"\", string.punctuation))\n",
    "    return text"
   ]
  },
  {
   "cell_type": "markdown",
   "metadata": {},
   "source": [
    "Realizando a limpeza do texto nos dados de treino"
   ]
  },
  {
   "cell_type": "code",
   "execution_count": 29,
   "metadata": {},
   "outputs": [
    {
     "data": {
      "text/plain": [
       "0    cyclindependent kinases cdks regulate variety ...\n",
       "1    abstract background nonsmall cell lung cancer ...\n",
       "2    abstract background nonsmall cell lung cancer ...\n",
       "3    recent evidence demonstrated acquired uniparen...\n",
       "4    oncogenic mutations monomeric casitas blineage...\n",
       "Name: Text, dtype: object"
      ]
     },
     "execution_count": 29,
     "metadata": {},
     "output_type": "execute_result"
    }
   ],
   "source": [
    "all_train_text = train_full['Text'].apply(cleanup)\n",
    "sentences = constructLabeledSentences(all_train_text)\n",
    "all_train_text.head()"
   ]
  },
  {
   "cell_type": "markdown",
   "metadata": {},
   "source": [
    "Realizando a limpeza do texto nos dados de test"
   ]
  },
  {
   "cell_type": "code",
   "execution_count": 30,
   "metadata": {},
   "outputs": [
    {
     "data": {
      "text/plain": [
       "0    cyclindependent kinases cdks regulate variety ...\n",
       "1    abstract background nonsmall cell lung cancer ...\n",
       "2    abstract background nonsmall cell lung cancer ...\n",
       "3    recent evidence demonstrated acquired uniparen...\n",
       "4    oncogenic mutations monomeric casitas blineage...\n",
       "Name: Text, dtype: object"
      ]
     },
     "execution_count": 30,
     "metadata": {},
     "output_type": "execute_result"
    }
   ],
   "source": [
    "all_test_text = test_full['Text'].apply(cleanup)\n",
    "sentences = constructLabeledSentences(all_test_text)\n",
    "all_test_text.head()"
   ]
  },
  {
   "cell_type": "markdown",
   "metadata": {},
   "source": [
    "Vamos aplicar a funcao LancasterStemmer para diminuir a formas de palavras distintas. Isso poderia ajudar a reduzir o tamanho do vocabulário, aprimorando os resultados"
   ]
  },
  {
   "cell_type": "code",
   "execution_count": 31,
   "metadata": {},
   "outputs": [],
   "source": [
    "from nltk.stem.lancaster import LancasterStemmer\n",
    "st = LancasterStemmer()\n",
    "\n",
    "for i in range(len(all_train_text)):\n",
    "    all_train_text[i] = st.stem(all_train_text[i])\n",
    "\n",
    "for i in range(len(all_test_text)):\n",
    "    all_test_text[i] = st.stem(all_test_text[i])"
   ]
  },
  {
   "cell_type": "markdown",
   "metadata": {},
   "source": [
    "Vamos usar a funcao CountVectorizer para pegar as palavras de cada frase e cria um vocabulário de todas as palavras únicas nas frases. Este vocabulário pode então ser usado para criar um vetor de recurso da contagem das palavras:"
   ]
  },
  {
   "cell_type": "code",
   "execution_count": 32,
   "metadata": {},
   "outputs": [
    {
     "name": "stdout",
     "output_type": "stream",
     "text": [
      "(139, 33732)\n",
      "(139,)\n"
     ]
    }
   ],
   "source": [
    "from sklearn.feature_extraction.text import TfidfVectorizer\n",
    "import nltk\n",
    "\n",
    "count_vectorizer = TfidfVectorizer(ngram_range=(1,1)\n",
    "                                  ,max_df=0.65\n",
    "                                  ,tokenizer=nltk.word_tokenize\n",
    "                                  ,strip_accents='unicode'\n",
    "                                  ,lowercase =True\n",
    "                                  ,analyzer='word'\n",
    "                                  ,token_pattern=r'\\w+'\n",
    "                                  ,use_idf=True\n",
    "                                  ,smooth_idf=True\n",
    "                                  ,sublinear_tf=False\n",
    "                                  ,stop_words = 'english')\n",
    "bag_of_words = count_vectorizer.fit_transform(all_train_text)\n",
    "print(bag_of_words.shape)\n",
    "\n",
    "X_test = count_vectorizer.transform(all_test_text)\n",
    "print(all_test_text.shape)"
   ]
  },
  {
   "cell_type": "markdown",
   "metadata": {},
   "source": [
    "Este vocabulário serve também como um índice de cada palavra. Agora, vamos pegar cada frase e obter a palavra ocorrências das palavras com base no vocabulário anterior. O vocabulário consiste em todas as palavras em nossas sentenças, cada uma representando uma palavra no vocabulário."
   ]
  },
  {
   "cell_type": "code",
   "execution_count": 33,
   "metadata": {},
   "outputs": [
    {
     "name": "stdout",
     "output_type": "stream",
     "text": [
      "(139, 33732)\n",
      "(139, 33732)\n"
     ]
    }
   ],
   "source": [
    "from sklearn.feature_extraction.text import TfidfTransformer\n",
    "\n",
    "transformer = TfidfTransformer(use_idf=True, smooth_idf=True, sublinear_tf=False)\n",
    "transformer_bag_of_words = transformer.fit_transform(bag_of_words)\n",
    "print (transformer_bag_of_words.shape)\n",
    "\n",
    "X_test_transformer = transformer.transform(X_test)\n",
    "print (X_test_transformer.shape)"
   ]
  },
  {
   "cell_type": "markdown",
   "metadata": {},
   "source": [
    "Agora vamos aplicar um label encoder para a classe categorica (variavel target)"
   ]
  },
  {
   "cell_type": "code",
   "execution_count": 34,
   "metadata": {},
   "outputs": [
    {
     "name": "stderr",
     "output_type": "stream",
     "text": [
      "Using TensorFlow backend.\n"
     ]
    }
   ],
   "source": [
    "from sklearn.preprocessing import LabelEncoder\n",
    "from keras.utils import np_utils\n",
    "\n",
    "train_y = train_full['Class'].values\n",
    "label_encoder = LabelEncoder()\n",
    "label_encoder.fit(train_y)\n",
    "encoded_y = np_utils.to_categorical((label_encoder.transform(train_y)))"
   ]
  },
  {
   "cell_type": "markdown",
   "metadata": {},
   "source": [
    "Em seguida aplicamos o LabelEncoder tambem para as features 'Gene' e 'Variation'"
   ]
  },
  {
   "cell_type": "code",
   "execution_count": 35,
   "metadata": {},
   "outputs": [],
   "source": [
    "gene_le = LabelEncoder()\n",
    "gene_encoded = gene_le.fit_transform( np.hstack((train_full['Gene'].values.ravel()\n",
    "                                                ,test_full['Gene'].values.ravel()))).reshape(-1, 1)\n",
    "gene_encoded = gene_encoded / float(np.max(gene_encoded))\n",
    "\n",
    "\n",
    "variation_le = LabelEncoder()\n",
    "variation_encoded = variation_le.fit_transform( np.hstack((train_full['Variation'].values.ravel()\n",
    "                                                          ,test_full['Variation'].values.ravel()))).reshape(-1, 1)\n",
    "variation_encoded = variation_encoded / float(np.max(variation_encoded))"
   ]
  },
  {
   "cell_type": "markdown",
   "metadata": {},
   "source": [
    "Criamos as variaveis X (features) e y (target)"
   ]
  },
  {
   "cell_type": "code",
   "execution_count": 36,
   "metadata": {},
   "outputs": [],
   "source": [
    "from scipy.sparse import hstack\n",
    "\n",
    "# Dados de Treino\n",
    "X = hstack((gene_encoded[:train_full.shape[0]]\n",
    "           ,variation_encoded[:train_full.shape[0]]\n",
    "           ,transformer_bag_of_words)).todense()\n",
    "y = encoded_y\n",
    "\n",
    "# Datos de Teste\n",
    "X_test = hstack((gene_encoded[:test_full.shape[0]]\n",
    "                 ,variation_encoded[:test_full.shape[0]]\n",
    "                 ,X_test_transformer)).todense()"
   ]
  },
  {
   "cell_type": "code",
   "execution_count": 37,
   "metadata": {},
   "outputs": [
    {
     "data": {
      "text/plain": [
       "((139, 33734), (139, 9), (139, 33734))"
      ]
     },
     "execution_count": 37,
     "metadata": {},
     "output_type": "execute_result"
    }
   ],
   "source": [
    "X.shape, y.shape, X_test.shape"
   ]
  },
  {
   "cell_type": "markdown",
   "metadata": {},
   "source": [
    "## Criação os modelos de Machine Learning"
   ]
  },
  {
   "cell_type": "markdown",
   "metadata": {},
   "source": [
    "Realizando o split do dataset de treino"
   ]
  },
  {
   "cell_type": "code",
   "execution_count": 38,
   "metadata": {},
   "outputs": [],
   "source": [
    "from sklearn.model_selection import train_test_split\n",
    "\n",
    "X_train, X_valid, y_train, y_valid = train_test_split(X, y, test_size=0.30, random_state=42)"
   ]
  },
  {
   "cell_type": "markdown",
   "metadata": {},
   "source": [
    "### Modelo using Random Forest"
   ]
  },
  {
   "cell_type": "code",
   "execution_count": 39,
   "metadata": {},
   "outputs": [
    {
     "data": {
      "text/plain": [
       "RandomForestRegressor(bootstrap=True, criterion='mse', max_depth=None,\n",
       "           max_features='auto', max_leaf_nodes=None,\n",
       "           min_impurity_decrease=0.0, min_impurity_split=None,\n",
       "           min_samples_leaf=1, min_samples_split=2,\n",
       "           min_weight_fraction_leaf=0.0, n_estimators=10, n_jobs=None,\n",
       "           oob_score=False, random_state=None, verbose=0, warm_start=False)"
      ]
     },
     "execution_count": 39,
     "metadata": {},
     "output_type": "execute_result"
    }
   ],
   "source": [
    "from sklearn.ensemble import RandomForestRegressor\n",
    "\n",
    "rf = RandomForestRegressor(n_estimators=10)\n",
    "rf.fit(X_train, y_train)"
   ]
  },
  {
   "cell_type": "code",
   "execution_count": 40,
   "metadata": {},
   "outputs": [
    {
     "name": "stdout",
     "output_type": "stream",
     "text": [
      "0.22265830228563133\n"
     ]
    }
   ],
   "source": [
    "from sklearn.metrics import mean_squared_error\n",
    "predRF = rf.predict(X_valid)\n",
    "scoreRF = np.sqrt(mean_squared_error(y_valid,predRF))\n",
    "print (scoreRF)"
   ]
  },
  {
   "cell_type": "markdown",
   "metadata": {},
   "source": [
    "### Modelo using Deep Learning (Keras)"
   ]
  },
  {
   "cell_type": "code",
   "execution_count": 41,
   "metadata": {},
   "outputs": [],
   "source": [
    "from keras.models import Sequential\n",
    "from keras.layers import Dense, Dropout\n",
    "\n",
    "# Cria o modelo\n",
    "def baseline_model():\n",
    "    model = Sequential()\n",
    "    model.add(Dense(512,input_dim=transformer_bag_of_words.shape[1]+gene_encoded.shape[1]+variation_encoded.shape[1],init='normal',activation='relu'))\n",
    "    model.add(Dropout(0.3))\n",
    "    model.add(Dense(512,init='normal',activation='relu'))\n",
    "    model.add(Dropout(0.3))\n",
    "    model.add(Dense(512,init='normal',activation='relu'))\n",
    "    model.add(Dropout(0.3))\n",
    "    model.add(Dense(512,init='normal',activation='relu'))\n",
    "    model.add(Dense(256,init='normal',activation='relu'))\n",
    "    model.add(Dense(64,init='normal',activation='relu'))\n",
    "    model.add(Dense(9,init='normal',activation=\"softmax\"))\n",
    "    model.compile(loss='categorical_crossentropy', optimizer='adam', metrics=['accuracy'])\n",
    "    return model"
   ]
  },
  {
   "cell_type": "code",
   "execution_count": 42,
   "metadata": {
    "scrolled": true
   },
   "outputs": [
    {
     "name": "stdout",
     "output_type": "stream",
     "text": [
      "WARNING:tensorflow:From /anaconda3/lib/python3.7/site-packages/tensorflow/python/framework/op_def_library.py:263: colocate_with (from tensorflow.python.framework.ops) is deprecated and will be removed in a future version.\n",
      "Instructions for updating:\n",
      "Colocations handled automatically by placer.\n",
      "WARNING:tensorflow:From /anaconda3/lib/python3.7/site-packages/keras/backend/tensorflow_backend.py:3445: calling dropout (from tensorflow.python.ops.nn_ops) with keep_prob is deprecated and will be removed in a future version.\n",
      "Instructions for updating:\n",
      "Please use `rate` instead of `keep_prob`. Rate should be set to `rate = 1 - keep_prob`.\n",
      "WARNING:tensorflow:From /anaconda3/lib/python3.7/site-packages/tensorflow/python/ops/math_ops.py:3066: to_int32 (from tensorflow.python.ops.math_ops) is deprecated and will be removed in a future version.\n",
      "Instructions for updating:\n",
      "Use tf.cast instead.\n"
     ]
    }
   ],
   "source": [
    "# Executa o modelo e valida nos mesmos dados em que foi criado (treino)\n",
    "model = baseline_model()\n",
    "keras = model.fit(X_train, y_train, epochs=50, validation_split=0.33, verbose=False)"
   ]
  },
  {
   "cell_type": "code",
   "execution_count": 43,
   "metadata": {},
   "outputs": [
    {
     "name": "stdout",
     "output_type": "stream",
     "text": [
      "0.2626965\n"
     ]
    }
   ],
   "source": [
    "predKeras = model.predict(X_valid)\n",
    "scoreKeras = np.sqrt(mean_squared_error(y_valid,predKeras))\n",
    "print (scoreKeras)"
   ]
  },
  {
   "cell_type": "code",
   "execution_count": 44,
   "metadata": {},
   "outputs": [
    {
     "name": "stdout",
     "output_type": "stream",
     "text": [
      "Training accuracy: 96.88% / Validation accuracy: 48.48%\n"
     ]
    }
   ],
   "source": [
    "print(\"Training accuracy: %.2f%% / Validation accuracy: %.2f%%\" % (100*keras.history['acc'][-1], 100*keras.history['val_acc'][-1]))"
   ]
  },
  {
   "cell_type": "code",
   "execution_count": 45,
   "metadata": {},
   "outputs": [
    {
     "data": {
      "image/png": "[encoded data removed]",
      "text/plain": [
       "<Figure size 432x288 with 1 Axes>"
      ]
     },
     "metadata": {},
     "output_type": "display_data"
    },
    {
     "data": {
      "image/png": "[encoded data removed]",
      "text/plain": [
       "<Figure size 432x288 with 1 Axes>"
      ]
     },
     "metadata": {},
     "output_type": "display_data"
    }
   ],
   "source": [
    "# Visualizando o historico de Acuracia\n",
    "plt.plot(keras.history['acc'])\n",
    "plt.plot(keras.history['val_acc'])\n",
    "plt.title('model accuracy')\n",
    "plt.ylabel('accuracy')\n",
    "plt.xlabel('epoch')\n",
    "plt.legend(['train', 'valid'], loc='upper left')\n",
    "plt.show()\n",
    "\n",
    "# Visualizando o historico de perda\n",
    "plt.plot(keras.history['loss'])\n",
    "plt.plot(keras.history['val_loss'])\n",
    "plt.title('model loss')\n",
    "plt.ylabel('loss')\n",
    "plt.xlabel('epoch')\n",
    "plt.legend(['train', 'valid'], loc='upper left')\n",
    "plt.show()"
   ]
  },
  {
   "cell_type": "code",
   "execution_count": 46,
   "metadata": {},
   "outputs": [],
   "source": [
    "# Fazer previsoes com dados de Teste\n",
    "results = model.predict(X_test)"
   ]
  },
  {
   "cell_type": "code",
   "execution_count": 47,
   "metadata": {},
   "outputs": [
    {
     "data": {
      "text/html": [
       "<div>\n",
       "<style scoped>\n",
       "    .dataframe tbody tr th:only-of-type {\n",
       "        vertical-align: middle;\n",
       "    }\n",
       "\n",
       "    .dataframe tbody tr th {\n",
       "        vertical-align: top;\n",
       "    }\n",
       "\n",
       "    .dataframe thead th {\n",
       "        text-align: right;\n",
       "    }\n",
       "</style>\n",
       "<table border=\"1\" class=\"dataframe\">\n",
       "  <thead>\n",
       "    <tr style=\"text-align: right;\">\n",
       "      <th></th>\n",
       "      <th>class1</th>\n",
       "      <th>class2</th>\n",
       "      <th>class3</th>\n",
       "      <th>class4</th>\n",
       "      <th>class5</th>\n",
       "      <th>class6</th>\n",
       "      <th>class7</th>\n",
       "      <th>class8</th>\n",
       "      <th>class9</th>\n",
       "      <th>ID</th>\n",
       "    </tr>\n",
       "  </thead>\n",
       "  <tbody>\n",
       "    <tr>\n",
       "      <th>0</th>\n",
       "      <td>1.935781e-02</td>\n",
       "      <td>0.978601</td>\n",
       "      <td>3.327489e-10</td>\n",
       "      <td>2.006682e-10</td>\n",
       "      <td>2.140730e-11</td>\n",
       "      <td>9.873558e-18</td>\n",
       "      <td>0.002041</td>\n",
       "      <td>6.712566e-17</td>\n",
       "      <td>8.965561e-10</td>\n",
       "      <td>0</td>\n",
       "    </tr>\n",
       "    <tr>\n",
       "      <th>1</th>\n",
       "      <td>6.709083e-06</td>\n",
       "      <td>0.140572</td>\n",
       "      <td>7.451594e-03</td>\n",
       "      <td>2.147838e-01</td>\n",
       "      <td>3.012470e-03</td>\n",
       "      <td>1.358268e-14</td>\n",
       "      <td>0.634173</td>\n",
       "      <td>2.042481e-14</td>\n",
       "      <td>2.005881e-07</td>\n",
       "      <td>1</td>\n",
       "    </tr>\n",
       "    <tr>\n",
       "      <th>2</th>\n",
       "      <td>1.069194e-06</td>\n",
       "      <td>0.033089</td>\n",
       "      <td>1.221923e-02</td>\n",
       "      <td>7.065270e-01</td>\n",
       "      <td>6.735349e-03</td>\n",
       "      <td>6.740523e-15</td>\n",
       "      <td>0.241429</td>\n",
       "      <td>6.475056e-15</td>\n",
       "      <td>7.287143e-08</td>\n",
       "      <td>2</td>\n",
       "    </tr>\n",
       "    <tr>\n",
       "      <th>3</th>\n",
       "      <td>1.772628e-06</td>\n",
       "      <td>0.000374</td>\n",
       "      <td>1.123369e-01</td>\n",
       "      <td>8.037865e-01</td>\n",
       "      <td>8.240484e-02</td>\n",
       "      <td>4.444381e-07</td>\n",
       "      <td>0.000994</td>\n",
       "      <td>5.791689e-08</td>\n",
       "      <td>1.014057e-04</td>\n",
       "      <td>3</td>\n",
       "    </tr>\n",
       "    <tr>\n",
       "      <th>4</th>\n",
       "      <td>1.584296e-08</td>\n",
       "      <td>0.000011</td>\n",
       "      <td>3.203896e-02</td>\n",
       "      <td>7.729523e-01</td>\n",
       "      <td>1.949843e-01</td>\n",
       "      <td>6.121124e-09</td>\n",
       "      <td>0.000004</td>\n",
       "      <td>7.624076e-11</td>\n",
       "      <td>9.639974e-06</td>\n",
       "      <td>4</td>\n",
       "    </tr>\n",
       "  </tbody>\n",
       "</table>\n",
       "</div>"
      ],
      "text/plain": [
       "         class1    class2        class3        class4        class5  \\\n",
       "0  1.935781e-02  0.978601  3.327489e-10  2.006682e-10  2.140730e-11   \n",
       "1  6.709083e-06  0.140572  7.451594e-03  2.147838e-01  3.012470e-03   \n",
       "2  1.069194e-06  0.033089  1.221923e-02  7.065270e-01  6.735349e-03   \n",
       "3  1.772628e-06  0.000374  1.123369e-01  8.037865e-01  8.240484e-02   \n",
       "4  1.584296e-08  0.000011  3.203896e-02  7.729523e-01  1.949843e-01   \n",
       "\n",
       "         class6    class7        class8        class9  ID  \n",
       "0  9.873558e-18  0.002041  6.712566e-17  8.965561e-10   0  \n",
       "1  1.358268e-14  0.634173  2.042481e-14  2.005881e-07   1  \n",
       "2  6.740523e-15  0.241429  6.475056e-15  7.287143e-08   2  \n",
       "3  4.444381e-07  0.000994  5.791689e-08  1.014057e-04   3  \n",
       "4  6.121124e-09  0.000004  7.624076e-11  9.639974e-06   4  "
      ]
     },
     "execution_count": 47,
     "metadata": {},
     "output_type": "execute_result"
    }
   ],
   "source": [
    "submission_df = pd.DataFrame(results, columns=['class'+str(c+1) for c in range(9)])\n",
    "submission_df['ID'] = train_variants['ID']\n",
    "submission_df.to_csv(\"data/submission.csv\",index=False)\n",
    "submission_df.head()"
   ]
  },
  {
   "cell_type": "code",
   "execution_count": null,
   "metadata": {},
   "outputs": [],
   "source": []
  }
 ],
 "metadata": {
  "kernelspec": {
   "display_name": "Python 3",
   "language": "python",
   "name": "python3"
  },
  "language_info": {
   "codemirror_mode": {
    "name": "ipython",
    "version": 3
   },
   "file_extension": ".py",
   "mimetype": "text/x-python",
   "name": "python",
   "nbconvert_exporter": "python",
   "pygments_lexer": "ipython3",
   "version": "3.7.3"
  }
 },
 "nbformat": 4,
 "nbformat_minor": 2
}
